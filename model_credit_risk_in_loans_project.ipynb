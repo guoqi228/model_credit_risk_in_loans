{
 "cells": [
  {
   "cell_type": "markdown",
   "metadata": {},
   "source": [
    "### Model Credit Risk in Loans\n",
    "\n",
    "### Introduction\n",
    "\n",
    "####  Credit has played a key role in the economy for centuries and some form of credit has existed since the beginning of commerce. We'll be working with financial lending data from Lending Club. Lending Club is a marketplace for personal loans that matches borrowers who are seeking a loan with investors looking to lend money and make a return.\n",
    "\n",
    "#### Each borrower fills out a comprehensive application, providing their past financial history, the reason for the loan, and more. Lending Club evaluates each borrower's credit score using past historical data and their own data science process and assign an interest rate to the borrower. The interest rate is the percent in addition to the requested loan amount the borrower has to pay back.\n",
    "\n",
    "#### A higher interest rate means that the borrower is riskier and more unlikely to pay back the loan while a lower interest rate means that the borrower has a good credit history is more likely to pay back the loan. The interest rates range from 5.32% all the way to 30.99% and each borrower is given a grade according to the interest rate they were assigned. If the borrower accepts the interest rate, then the loan is listed on the Lending Club marketplace.\n",
    "\n",
    "#### Investors are primarily interested in receiveing a return on their investments. Approved loans are listed on the Lending Club website, where qualified investors can browse recently approved loans, the borrower's credit score, the purpose for the loan, and other information from the application. Once they're ready to back a loan, they select the amount of money they want to fund. Once a loan's requested amount is fully funded, the borrower receives the money they requested minus the origination fee that Lending Club charges.\n",
    "\n",
    "#### The borrower then makes monthly payments back to Lending Club either over 36 months or over 60 months. Lending Club redistributes these payments to the investors. This means that investors don't have to wait until the full amount is paid off to start to see money back. If a loan is fully paid off on time, the investors make a return which corresponds to the interest rate the borrower had to pay in addition the requested amount. Many loans aren't completely paid off on time, however, and some borrowers default on the loan.\n",
    "\n",
    "\n",
    "### Data\n",
    "\n",
    "#### Lending Club releases data for all of the approved and declined loan applications periodically on their website. \n",
    "\n",
    "#### Before diving into the datasets themselves, let's get familiar with the data dictionary. The LoanStats sheet describes the approved loans datasets and the RejectStats describes the rejected loans datasets. Since rejected applications don't appear on the Lending Club marketplace and aren't available for investment, we'll be focusing on data on approved loans only.\n",
    "\n",
    "#### The approved loans datasets contain information on current loans, completed loans, and defaulted loans. Let's now define the problem statement for this machine learning project:\n",
    "\n",
    "   - Can we build a machine learning model that can accurately predict if a borrower will pay off their loan on time or not?\n",
    "\n",
    "#### Before we can start doing machine learning, we need to define what features we want to use and which column repesents the target column we want to predict.\n",
    "\n",
    "### Explore the data "
   ]
  },
  {
   "cell_type": "code",
   "execution_count": 5,
   "metadata": {
    "collapsed": false
   },
   "outputs": [
    {
     "name": "stdout",
     "output_type": "stream",
     "text": [
      "id                                1077501\n",
      "member_id                      1.2966e+06\n",
      "loan_amnt                            5000\n",
      "funded_amnt                          5000\n",
      "funded_amnt_inv                      4975\n",
      "term                            36 months\n",
      "int_rate                           10.65%\n",
      "installment                        162.87\n",
      "grade                                   B\n",
      "sub_grade                              B2\n",
      "emp_title                             NaN\n",
      "emp_length                      10+ years\n",
      "home_ownership                       RENT\n",
      "annual_inc                          24000\n",
      "verification_status              Verified\n",
      "issue_d                          Dec-2011\n",
      "loan_status                    Fully Paid\n",
      "pymnt_plan                              n\n",
      "purpose                       credit_card\n",
      "title                            Computer\n",
      "zip_code                            860xx\n",
      "addr_state                             AZ\n",
      "dti                                 27.65\n",
      "delinq_2yrs                             0\n",
      "earliest_cr_line                 Jan-1985\n",
      "inq_last_6mths                          1\n",
      "open_acc                                3\n",
      "pub_rec                                 0\n",
      "revol_bal                           13648\n",
      "revol_util                          83.7%\n",
      "total_acc                               9\n",
      "initial_list_status                     f\n",
      "out_prncp                               0\n",
      "out_prncp_inv                           0\n",
      "total_pymnt                       5863.16\n",
      "total_pymnt_inv                   5833.84\n",
      "total_rec_prncp                      5000\n",
      "total_rec_int                      863.16\n",
      "total_rec_late_fee                      0\n",
      "recoveries                              0\n",
      "collection_recovery_fee                 0\n",
      "last_pymnt_d                     Jan-2015\n",
      "last_pymnt_amnt                    171.62\n",
      "last_credit_pull_d               Jun-2016\n",
      "collections_12_mths_ex_med              0\n",
      "policy_code                             1\n",
      "application_type               INDIVIDUAL\n",
      "acc_now_delinq                          0\n",
      "chargeoff_within_12_mths                0\n",
      "delinq_amnt                             0\n",
      "pub_rec_bankruptcies                    0\n",
      "tax_liens                               0\n",
      "Name: 0, dtype: object\n",
      "<class 'pandas.core.frame.DataFrame'>\n",
      "RangeIndex: 42538 entries, 0 to 42537\n",
      "Data columns (total 52 columns):\n",
      "id                            42538 non-null object\n",
      "member_id                     42535 non-null float64\n",
      "loan_amnt                     42535 non-null float64\n",
      "funded_amnt                   42535 non-null float64\n",
      "funded_amnt_inv               42535 non-null float64\n",
      "term                          42535 non-null object\n",
      "int_rate                      42535 non-null object\n",
      "installment                   42535 non-null float64\n",
      "grade                         42535 non-null object\n",
      "sub_grade                     42535 non-null object\n",
      "emp_title                     39911 non-null object\n",
      "emp_length                    42535 non-null object\n",
      "home_ownership                42535 non-null object\n",
      "annual_inc                    42531 non-null float64\n",
      "verification_status           42535 non-null object\n",
      "issue_d                       42535 non-null object\n",
      "loan_status                   42535 non-null object\n",
      "pymnt_plan                    42535 non-null object\n",
      "purpose                       42535 non-null object\n",
      "title                         42523 non-null object\n",
      "zip_code                      42535 non-null object\n",
      "addr_state                    42535 non-null object\n",
      "dti                           42535 non-null float64\n",
      "delinq_2yrs                   42506 non-null float64\n",
      "earliest_cr_line              42506 non-null object\n",
      "inq_last_6mths                42506 non-null float64\n",
      "open_acc                      42506 non-null float64\n",
      "pub_rec                       42506 non-null float64\n",
      "revol_bal                     42535 non-null float64\n",
      "revol_util                    42445 non-null object\n",
      "total_acc                     42506 non-null float64\n",
      "initial_list_status           42535 non-null object\n",
      "out_prncp                     42535 non-null float64\n",
      "out_prncp_inv                 42535 non-null float64\n",
      "total_pymnt                   42535 non-null float64\n",
      "total_pymnt_inv               42535 non-null float64\n",
      "total_rec_prncp               42535 non-null float64\n",
      "total_rec_int                 42535 non-null float64\n",
      "total_rec_late_fee            42535 non-null float64\n",
      "recoveries                    42535 non-null float64\n",
      "collection_recovery_fee       42535 non-null float64\n",
      "last_pymnt_d                  42452 non-null object\n",
      "last_pymnt_amnt               42535 non-null float64\n",
      "last_credit_pull_d            42531 non-null object\n",
      "collections_12_mths_ex_med    42390 non-null float64\n",
      "policy_code                   42535 non-null float64\n",
      "application_type              42535 non-null object\n",
      "acc_now_delinq                42506 non-null float64\n",
      "chargeoff_within_12_mths      42390 non-null float64\n",
      "delinq_amnt                   42506 non-null float64\n",
      "pub_rec_bankruptcies          41170 non-null float64\n",
      "tax_liens                     42430 non-null float64\n",
      "dtypes: float64(30), object(22)\n",
      "memory usage: 16.9+ MB\n",
      "None\n"
     ]
    },
    {
     "data": {
      "text/html": [
       "<div>\n",
       "<table border=\"1\" class=\"dataframe\">\n",
       "  <thead>\n",
       "    <tr style=\"text-align: right;\">\n",
       "      <th></th>\n",
       "      <th>id</th>\n",
       "      <th>member_id</th>\n",
       "      <th>loan_amnt</th>\n",
       "      <th>funded_amnt</th>\n",
       "      <th>funded_amnt_inv</th>\n",
       "      <th>term</th>\n",
       "      <th>int_rate</th>\n",
       "      <th>installment</th>\n",
       "      <th>grade</th>\n",
       "      <th>sub_grade</th>\n",
       "      <th>...</th>\n",
       "      <th>last_pymnt_amnt</th>\n",
       "      <th>last_credit_pull_d</th>\n",
       "      <th>collections_12_mths_ex_med</th>\n",
       "      <th>policy_code</th>\n",
       "      <th>application_type</th>\n",
       "      <th>acc_now_delinq</th>\n",
       "      <th>chargeoff_within_12_mths</th>\n",
       "      <th>delinq_amnt</th>\n",
       "      <th>pub_rec_bankruptcies</th>\n",
       "      <th>tax_liens</th>\n",
       "    </tr>\n",
       "  </thead>\n",
       "  <tbody>\n",
       "    <tr>\n",
       "      <th>0</th>\n",
       "      <td>1077501</td>\n",
       "      <td>1296599.0</td>\n",
       "      <td>5000.0</td>\n",
       "      <td>5000.0</td>\n",
       "      <td>4975.0</td>\n",
       "      <td>36 months</td>\n",
       "      <td>10.65%</td>\n",
       "      <td>162.87</td>\n",
       "      <td>B</td>\n",
       "      <td>B2</td>\n",
       "      <td>...</td>\n",
       "      <td>171.62</td>\n",
       "      <td>Jun-2016</td>\n",
       "      <td>0.0</td>\n",
       "      <td>1.0</td>\n",
       "      <td>INDIVIDUAL</td>\n",
       "      <td>0.0</td>\n",
       "      <td>0.0</td>\n",
       "      <td>0.0</td>\n",
       "      <td>0.0</td>\n",
       "      <td>0.0</td>\n",
       "    </tr>\n",
       "    <tr>\n",
       "      <th>1</th>\n",
       "      <td>1077430</td>\n",
       "      <td>1314167.0</td>\n",
       "      <td>2500.0</td>\n",
       "      <td>2500.0</td>\n",
       "      <td>2500.0</td>\n",
       "      <td>60 months</td>\n",
       "      <td>15.27%</td>\n",
       "      <td>59.83</td>\n",
       "      <td>C</td>\n",
       "      <td>C4</td>\n",
       "      <td>...</td>\n",
       "      <td>119.66</td>\n",
       "      <td>Sep-2013</td>\n",
       "      <td>0.0</td>\n",
       "      <td>1.0</td>\n",
       "      <td>INDIVIDUAL</td>\n",
       "      <td>0.0</td>\n",
       "      <td>0.0</td>\n",
       "      <td>0.0</td>\n",
       "      <td>0.0</td>\n",
       "      <td>0.0</td>\n",
       "    </tr>\n",
       "    <tr>\n",
       "      <th>2</th>\n",
       "      <td>1077175</td>\n",
       "      <td>1313524.0</td>\n",
       "      <td>2400.0</td>\n",
       "      <td>2400.0</td>\n",
       "      <td>2400.0</td>\n",
       "      <td>36 months</td>\n",
       "      <td>15.96%</td>\n",
       "      <td>84.33</td>\n",
       "      <td>C</td>\n",
       "      <td>C5</td>\n",
       "      <td>...</td>\n",
       "      <td>649.91</td>\n",
       "      <td>Jun-2016</td>\n",
       "      <td>0.0</td>\n",
       "      <td>1.0</td>\n",
       "      <td>INDIVIDUAL</td>\n",
       "      <td>0.0</td>\n",
       "      <td>0.0</td>\n",
       "      <td>0.0</td>\n",
       "      <td>0.0</td>\n",
       "      <td>0.0</td>\n",
       "    </tr>\n",
       "    <tr>\n",
       "      <th>3</th>\n",
       "      <td>1076863</td>\n",
       "      <td>1277178.0</td>\n",
       "      <td>10000.0</td>\n",
       "      <td>10000.0</td>\n",
       "      <td>10000.0</td>\n",
       "      <td>36 months</td>\n",
       "      <td>13.49%</td>\n",
       "      <td>339.31</td>\n",
       "      <td>C</td>\n",
       "      <td>C1</td>\n",
       "      <td>...</td>\n",
       "      <td>357.48</td>\n",
       "      <td>Apr-2016</td>\n",
       "      <td>0.0</td>\n",
       "      <td>1.0</td>\n",
       "      <td>INDIVIDUAL</td>\n",
       "      <td>0.0</td>\n",
       "      <td>0.0</td>\n",
       "      <td>0.0</td>\n",
       "      <td>0.0</td>\n",
       "      <td>0.0</td>\n",
       "    </tr>\n",
       "    <tr>\n",
       "      <th>4</th>\n",
       "      <td>1075358</td>\n",
       "      <td>1311748.0</td>\n",
       "      <td>3000.0</td>\n",
       "      <td>3000.0</td>\n",
       "      <td>3000.0</td>\n",
       "      <td>60 months</td>\n",
       "      <td>12.69%</td>\n",
       "      <td>67.79</td>\n",
       "      <td>B</td>\n",
       "      <td>B5</td>\n",
       "      <td>...</td>\n",
       "      <td>67.79</td>\n",
       "      <td>Jun-2016</td>\n",
       "      <td>0.0</td>\n",
       "      <td>1.0</td>\n",
       "      <td>INDIVIDUAL</td>\n",
       "      <td>0.0</td>\n",
       "      <td>0.0</td>\n",
       "      <td>0.0</td>\n",
       "      <td>0.0</td>\n",
       "      <td>0.0</td>\n",
       "    </tr>\n",
       "  </tbody>\n",
       "</table>\n",
       "<p>5 rows × 52 columns</p>\n",
       "</div>"
      ],
      "text/plain": [
       "        id  member_id  loan_amnt  funded_amnt  funded_amnt_inv        term  \\\n",
       "0  1077501  1296599.0     5000.0       5000.0           4975.0   36 months   \n",
       "1  1077430  1314167.0     2500.0       2500.0           2500.0   60 months   \n",
       "2  1077175  1313524.0     2400.0       2400.0           2400.0   36 months   \n",
       "3  1076863  1277178.0    10000.0      10000.0          10000.0   36 months   \n",
       "4  1075358  1311748.0     3000.0       3000.0           3000.0   60 months   \n",
       "\n",
       "  int_rate  installment grade sub_grade    ...    last_pymnt_amnt  \\\n",
       "0   10.65%       162.87     B        B2    ...             171.62   \n",
       "1   15.27%        59.83     C        C4    ...             119.66   \n",
       "2   15.96%        84.33     C        C5    ...             649.91   \n",
       "3   13.49%       339.31     C        C1    ...             357.48   \n",
       "4   12.69%        67.79     B        B5    ...              67.79   \n",
       "\n",
       "  last_credit_pull_d collections_12_mths_ex_med  policy_code application_type  \\\n",
       "0           Jun-2016                        0.0          1.0       INDIVIDUAL   \n",
       "1           Sep-2013                        0.0          1.0       INDIVIDUAL   \n",
       "2           Jun-2016                        0.0          1.0       INDIVIDUAL   \n",
       "3           Apr-2016                        0.0          1.0       INDIVIDUAL   \n",
       "4           Jun-2016                        0.0          1.0       INDIVIDUAL   \n",
       "\n",
       "  acc_now_delinq chargeoff_within_12_mths delinq_amnt pub_rec_bankruptcies  \\\n",
       "0            0.0                      0.0         0.0                  0.0   \n",
       "1            0.0                      0.0         0.0                  0.0   \n",
       "2            0.0                      0.0         0.0                  0.0   \n",
       "3            0.0                      0.0         0.0                  0.0   \n",
       "4            0.0                      0.0         0.0                  0.0   \n",
       "\n",
       "  tax_liens  \n",
       "0       0.0  \n",
       "1       0.0  \n",
       "2       0.0  \n",
       "3       0.0  \n",
       "4       0.0  \n",
       "\n",
       "[5 rows x 52 columns]"
      ]
     },
     "execution_count": 5,
     "metadata": {},
     "output_type": "execute_result"
    }
   ],
   "source": [
    "# Read loans_2007_2011.csv into a DataFrame named loans_2007\n",
    "import pandas as pd\n",
    "loans_2007 = pd.read_csv(\"loans_2007_2011.csv\", low_memory=False)\n",
    "loans_2007.drop_duplicates()\n",
    "print(loans_2007.iloc[0])\n",
    "print(loans_2007.info())\n",
    "loans_2007.head()"
   ]
  },
  {
   "cell_type": "markdown",
   "metadata": {},
   "source": [
    "#### The Dataframe contains many columns and can be cumbersome to try to explore all at once. Let's break up the columns into 3 groups of 18 columns and use the data dictionary to become familiar with what each column represents. Pay attention to any features that:\n",
    "\n",
    "   - leak information from the future (after the loan has already been funded)\n",
    "   - don't affect a borrower's ability to pay back a loan (e.g. a randomly generated ID value by Lending Club)\n",
    "   - formatted poorly and need to be cleaned up\n",
    "   - require more data or a lot of processing to turn into a useful feature\n",
    "   - contain redundant information\n",
    "\n",
    "#### We need to especially pay attention to data leakage, since it can cause our model to overfit. This is because the model would be using data about the target column that wouldn't be available when we're using the model on future loans.\n",
    "\n",
    "### Data Cleaning\n",
    "\n",
    "#### After analyzing each column, we can conclude that the following features need to be removed:\n",
    "\n",
    "   - id: randomly generated field by Lending Club for unique identification purposes only\n",
    "   - member_id: also a randomly generated field by Lending Club for unique identification purposes only\n",
    "   - funded_amnt: leaks data from the future (after the loan is already started to be funded)\n",
    "   - funded_amnt_inv: also leaks data from the future (after the loan is already started to be funded)\n",
    "   - grade: contains redundant information as the interest rate column (int_rate)\n",
    "   - sub_grade: also contains redundant information as the interest rate column (int_rate)\n",
    "   - emp_title: requires other data and a lot of processing to potentially be useful\n",
    "   - issue_d: leaks data from the future (after the loan is already completed funded)\n",
    "\n",
    "#### Recall that Lending Club assigns a grade and a sub-grade based on the borrower's interest rate. While the grade and sub_grade values are categorical, the int_rate column contains continuous values, which are better suited for machine learning.\n",
    "\n",
    "#### Use the Dataframe method drop to remove the following columns from the loans_2007 Dataframe:\n",
    "\n",
    "   - id\n",
    "   - member_id\n",
    "   - funded_amnt\n",
    "   - funded_amnt_inv\n",
    "   - grade\n",
    "   - sub_grade\n",
    "   - emp_title\n",
    "   - issue_d"
   ]
  },
  {
   "cell_type": "code",
   "execution_count": 6,
   "metadata": {
    "collapsed": true
   },
   "outputs": [],
   "source": [
    "loans_2007 = loans_2007.drop([\"id\", \"member_id\", \"funded_amnt\", \"funded_amnt_inv\", \"grade\", \"sub_grade\", \"emp_title\", \"issue_d\"], axis=1)"
   ]
  },
  {
   "cell_type": "markdown",
   "metadata": {},
   "source": [
    "#### Next, we need to drop the following columns:\n",
    "\n",
    "   - zip_code: redundant with the addr_state column since only the first 3 digits of the 5 digit zip code are visible (which only can be used to identify the state the borrower lives in)\n",
    "   - out_prncp: leaks data from the future, (after the loan already started to be paid off)\n",
    "   - out_prncp_inv: also leaks data from the future, (after the loan already started to be paid off)\n",
    "   - total_pymnt: also leaks data from the future, (after the loan already started to be paid off)\n",
    "   - total_pymnt_inv: also leaks data from the future, (after the loan already started to be paid off)\n",
    "   - total_rec_prncp: also leaks data from the future, (after the loan already started to be paid off)\n",
    "\n",
    "#### The out_prncp and out_prncp_inv both describe the outstanding principal amount for a loan, which is the remaining amount the borrower still owes. These 2 columns as well as the total_pymnt column describe properties of the loan after it's fully funded and started to be paid off. This information isn't available to an investor before the loan is fully funded and we don't want to include it in our model.\n",
    "\n",
    "#### Use the Dataframe method drop to remove the following columns from the loans_2007 Dataframe:\n",
    "\n",
    "  -  zip_code\n",
    "  -  out_prncp\n",
    "  -  out_prncp_inv\n",
    "  -  total_pymnt\n",
    "  -  total_pymnt_inv\n",
    "  -  total_rec_prncp"
   ]
  },
  {
   "cell_type": "code",
   "execution_count": 7,
   "metadata": {
    "collapsed": true
   },
   "outputs": [],
   "source": [
    "loans_2007 = loans_2007.drop([\"zip_code\", \"out_prncp\", \"out_prncp_inv\", \"total_pymnt\", \"total_pymnt_inv\", \"total_rec_prncp\"], axis=1)"
   ]
  },
  {
   "cell_type": "markdown",
   "metadata": {},
   "source": [
    "#### Next, we need to drop the following columns:\n",
    "\n",
    "   - total_rec_int: leaks data from the future, (after the loan already started to be paid off),\n",
    "   - total_rec_late_fee: also leaks data from the future, (after the loan already started to be paid off),\n",
    "   - recoveries: also leaks data from the future, (after the loan already started to be paid off),\n",
    "   - collection_recovery_fee: also leaks data from the future, (after the loan already started to be paid off),\n",
    "   - last_pymnt_d: also leaks data from the future, (after the loan already started to be paid off),\n",
    "   - last_pymnt_amnt: also leaks data from the future, (after the loan already started to be paid off).\n",
    "\n",
    "#### All of these columns leak data from the future, meaning that they're describing aspects of the loan after it's already been fully funded and started to be paid off by the borrower.\n",
    "\n",
    "#### Use the Dataframe method drop to remove the following columns from the loans_2007 Dataframe:\n",
    "\n",
    "   - total_rec_int\n",
    "   - total_rec_late_fee\n",
    "   - recoveries\n",
    "   - collection_recovery_fee\n",
    "   - last_pymnt_d\n",
    "   - last_pymnt_amnt"
   ]
  },
  {
   "cell_type": "code",
   "execution_count": 8,
   "metadata": {
    "collapsed": false
   },
   "outputs": [
    {
     "name": "stdout",
     "output_type": "stream",
     "text": [
      "loan_amnt                            5000\n",
      "term                            36 months\n",
      "int_rate                           10.65%\n",
      "installment                        162.87\n",
      "emp_length                      10+ years\n",
      "home_ownership                       RENT\n",
      "annual_inc                          24000\n",
      "verification_status              Verified\n",
      "loan_status                    Fully Paid\n",
      "pymnt_plan                              n\n",
      "purpose                       credit_card\n",
      "title                            Computer\n",
      "addr_state                             AZ\n",
      "dti                                 27.65\n",
      "delinq_2yrs                             0\n",
      "earliest_cr_line                 Jan-1985\n",
      "inq_last_6mths                          1\n",
      "open_acc                                3\n",
      "pub_rec                                 0\n",
      "revol_bal                           13648\n",
      "revol_util                          83.7%\n",
      "total_acc                               9\n",
      "initial_list_status                     f\n",
      "last_credit_pull_d               Jun-2016\n",
      "collections_12_mths_ex_med              0\n",
      "policy_code                             1\n",
      "application_type               INDIVIDUAL\n",
      "acc_now_delinq                          0\n",
      "chargeoff_within_12_mths                0\n",
      "delinq_amnt                             0\n",
      "pub_rec_bankruptcies                    0\n",
      "tax_liens                               0\n",
      "Name: 0, dtype: object\n",
      "<class 'pandas.core.frame.DataFrame'>\n",
      "RangeIndex: 42538 entries, 0 to 42537\n",
      "Data columns (total 32 columns):\n",
      "loan_amnt                     42535 non-null float64\n",
      "term                          42535 non-null object\n",
      "int_rate                      42535 non-null object\n",
      "installment                   42535 non-null float64\n",
      "emp_length                    42535 non-null object\n",
      "home_ownership                42535 non-null object\n",
      "annual_inc                    42531 non-null float64\n",
      "verification_status           42535 non-null object\n",
      "loan_status                   42535 non-null object\n",
      "pymnt_plan                    42535 non-null object\n",
      "purpose                       42535 non-null object\n",
      "title                         42523 non-null object\n",
      "addr_state                    42535 non-null object\n",
      "dti                           42535 non-null float64\n",
      "delinq_2yrs                   42506 non-null float64\n",
      "earliest_cr_line              42506 non-null object\n",
      "inq_last_6mths                42506 non-null float64\n",
      "open_acc                      42506 non-null float64\n",
      "pub_rec                       42506 non-null float64\n",
      "revol_bal                     42535 non-null float64\n",
      "revol_util                    42445 non-null object\n",
      "total_acc                     42506 non-null float64\n",
      "initial_list_status           42535 non-null object\n",
      "last_credit_pull_d            42531 non-null object\n",
      "collections_12_mths_ex_med    42390 non-null float64\n",
      "policy_code                   42535 non-null float64\n",
      "application_type              42535 non-null object\n",
      "acc_now_delinq                42506 non-null float64\n",
      "chargeoff_within_12_mths      42390 non-null float64\n",
      "delinq_amnt                   42506 non-null float64\n",
      "pub_rec_bankruptcies          41170 non-null float64\n",
      "tax_liens                     42430 non-null float64\n",
      "dtypes: float64(17), object(15)\n",
      "memory usage: 10.4+ MB\n",
      "None\n"
     ]
    }
   ],
   "source": [
    "loans_2007 = loans_2007.drop([\"total_rec_int\", \"total_rec_late_fee\", \"recoveries\", \"collection_recovery_fee\", \"last_pymnt_d\", \"last_pymnt_amnt\"], axis=1)\n",
    "print(loans_2007.iloc[0])\n",
    "print(loans_2007.info())"
   ]
  },
  {
   "cell_type": "markdown",
   "metadata": {},
   "source": [
    "#### Just by becoming familiar with the columns in the dataset, we were able to reduce the number of columns from 52 to 32 columns. We now need to decide on a target column that we want to use for modeling.\n",
    "\n",
    "#### We should use the loan_status column, since it's the only column that directly describes if a loan was paid off on time, had delayed payments, or was defaulted on the borrower. Currently, this column contains text values and we need to convert it to a numerical one for training a model. \n",
    "\n",
    "#### Use the Series method value_counts to return the frequency of the unique values in the loan_status column."
   ]
  },
  {
   "cell_type": "code",
   "execution_count": 9,
   "metadata": {
    "collapsed": false
   },
   "outputs": [
    {
     "data": {
      "text/plain": [
       "Fully Paid                                             33136\n",
       "Charged Off                                             5634\n",
       "Does not meet the credit policy. Status:Fully Paid      1988\n",
       "Current                                                  961\n",
       "Does not meet the credit policy. Status:Charged Off      761\n",
       "Late (31-120 days)                                        24\n",
       "In Grace Period                                           20\n",
       "Late (16-30 days)                                          8\n",
       "Default                                                    3\n",
       "Name: loan_status, dtype: int64"
      ]
     },
     "execution_count": 9,
     "metadata": {},
     "output_type": "execute_result"
    }
   ],
   "source": [
    "loans_2007['loan_status'].value_counts()"
   ]
  },
  {
   "cell_type": "markdown",
   "metadata": {},
   "source": [
    "#### There are 8 different possible values for the loan_status column. \n",
    "#### The each column explanation for each column:\n",
    "\n",
    "- Fully Paid: Loan has been fully paid off.\n",
    "- Charged Off: Loan for which there is no longer a reasonable expectation of further payments.\n",
    "- Does not meet the credit policy. Status:Fully Paid: While the loan was paid off, the loan application today would no longer meet the credit policy and wouldn't be approved on to the marketplace.\n",
    "- Does not meet the credit policy. Status:Charged Off: While the loan was charged off, the loan application today would no longer meet the credit policy and wouldn't be approved on to the marketplace.\n",
    "- In Grace Period: The loan is past due but still in the grace period of 15 days.\n",
    "- Late (16-30 days): Loan hasn't been paid in 16 to 30 days (late on the current payment).\n",
    "- Late (31-120 days): Loan hasn't been paid in 31 to 120 days (late on the current payment).\n",
    "- Current: Loan is up to date on current payments.\n",
    "- Default: Loan is defaulted on and no payment has been made for more than 121 days.\n",
    "\n",
    "#### From the investor's perspective, we're interested in trying to predict which loans will be paid off on time and which ones won't be. Only the Fully Paid and Charged Off values describe the final outcome of the loan. The other values describe loans that are still on going and where the jury is still out on if the borrower will pay back the loan on time or not. While the Default status resembles the Charged Off status, in Lending Club's eyes, loans that are charged off have essentially no chance of being repaid while default ones have a small chance.\n",
    "\n",
    "#### Since we're interested in being able to predict which of these 2 values a loan will fall under, we can treat the problem as a binary classification one. Let's remove all the loans that don't contain either Fully Paid and Charged Off as the loan's status and then transform the Fully Paid values to 1 for the positive case and the Charged Off values to 0 for the negative case.\n",
    "\n",
    "#### Lastly, one thing we need to keep in mind is the class imbalance between the positive and negative cases. While there are 33,136 loans that have been fully paid off, there are only 5,634 that were charged off. This class imbalance is a common problem in binary classification and during training, the model ends up having a strong bias towards predicting the class with more observations in the training set and will rarely predict the class with less observations. The stronger the imbalance, the more biased the model becomes. \n",
    "\n",
    "#### Remove all rows from loans_2007 that contain values other than Fully Paid or Charged Off for the loan_status column. Use the Dataframe method replace to replace categorical data to numerical."
   ]
  },
  {
   "cell_type": "code",
   "execution_count": 10,
   "metadata": {
    "collapsed": true
   },
   "outputs": [],
   "source": [
    "loans_2007 = loans_2007[(loans_2007['loan_status'] == \"Fully Paid\") | (loans_2007['loan_status'] == \"Charged Off\")]\n",
    "\n",
    "status_replace = {\n",
    "    \"loan_status\" : {\n",
    "        \"Fully Paid\": 1,\n",
    "        \"Charged Off\": 0,\n",
    "    }\n",
    "}\n",
    "\n",
    "loans_2007 = loans_2007.replace(status_replace)"
   ]
  },
  {
   "cell_type": "markdown",
   "metadata": {},
   "source": [
    "#### let's look for any columns that contain only one unique value and remove them. These columns won't be useful for the model since they don't add any information to each loan application. \n",
    "\n",
    "#### Since we're trying to find columns that contain one true unique value, we should first drop the null values then compute the number of unique values."
   ]
  },
  {
   "cell_type": "code",
   "execution_count": 11,
   "metadata": {
    "collapsed": false
   },
   "outputs": [
    {
     "name": "stdout",
     "output_type": "stream",
     "text": [
      "['pymnt_plan', 'initial_list_status', 'collections_12_mths_ex_med', 'policy_code', 'application_type', 'acc_now_delinq', 'chargeoff_within_12_mths', 'delinq_amnt', 'tax_liens']\n"
     ]
    }
   ],
   "source": [
    "orig_columns = loans_2007.columns\n",
    "drop_columns = []\n",
    "for col in orig_columns:\n",
    "    col_series = loans_2007[col].dropna().unique()\n",
    "    if len(col_series) == 1:\n",
    "        drop_columns.append(col)\n",
    "loans_2007 = loans_2007.drop(drop_columns, axis=1)\n",
    "print(drop_columns)"
   ]
  },
  {
   "cell_type": "markdown",
   "metadata": {},
   "source": [
    "#### It looks we we were able to remove 9 more columns since they only contained 1 unique value."
   ]
  },
  {
   "cell_type": "markdown",
   "metadata": {},
   "source": [
    "### Feature Engineering\n",
    "\n",
    "#### We removed all of the columns that contained redundant information, weren't useful for modeling, required too much processing to make useful, or leaked information from the future. \n",
    "\n",
    "####  We'll prepare the data for machine learning by focusing on handling missing values, converting categorical columns to numeric columns, and removing any other extraneous columns we encounter throughout this process. \n",
    "\n",
    "#### This is because the mathematics underlying most machine learning models assumes that the data is numerical and contains no missing values. To reinforce this requirement, scikit-learn will return an error if you try to train a model using data that contain missing values or non-numeric values when working with models like linear regression and logistic regression.\n",
    "\n",
    "#### We can return the number of missing values across the Dataframe by:\n",
    "\n",
    "   - first using the Pandas Dataframe method isnull to return a Dataframe containing Boolean values:\n",
    "       - True if the original value is null,\n",
    "       - False if the original value isn't null.\n",
    "   - then using the Pandas Dataframe method sum to calculate the number of null values in each column."
   ]
  },
  {
   "cell_type": "code",
   "execution_count": 12,
   "metadata": {
    "collapsed": false
   },
   "outputs": [
    {
     "name": "stdout",
     "output_type": "stream",
     "text": [
      "loan_amnt                 0\n",
      "term                      0\n",
      "int_rate                  0\n",
      "installment               0\n",
      "emp_length                0\n",
      "home_ownership            0\n",
      "annual_inc                0\n",
      "verification_status       0\n",
      "loan_status               0\n",
      "purpose                   0\n",
      "title                    10\n",
      "addr_state                0\n",
      "dti                       0\n",
      "delinq_2yrs               0\n",
      "earliest_cr_line          0\n",
      "inq_last_6mths            0\n",
      "open_acc                  0\n",
      "pub_rec                   0\n",
      "revol_bal                 0\n",
      "revol_util               50\n",
      "total_acc                 0\n",
      "last_credit_pull_d        2\n",
      "pub_rec_bankruptcies    697\n",
      "dtype: int64\n"
     ]
    }
   ],
   "source": [
    "loans = loans_2007\n",
    "null_counts = loans.isnull().sum()\n",
    "print(null_counts)"
   ]
  },
  {
   "cell_type": "markdown",
   "metadata": {},
   "source": [
    "#### While most of the columns have 0 missing values, 2 columns have 50 or less rows with missing values, and 1 column, pub_rec_bankruptcies, contains 697 rows with missing values. Let's remove columns entirely where more than 1% of the rows for that column contain a null value. In addition, we'll remove the remaining rows containing null values.\n",
    "\n",
    "#### This means that we'll keep the following columns and just remove rows containing missing values for them:\n",
    "\n",
    "   - title\n",
    "   - revol_util\n",
    "   - last_credit_pull_d\n",
    "\n",
    "#### and drop the pub_rec_bankruptcies column entirely since more than 1% of the rows have a missing value for this column.\n",
    "\n",
    "#### Next:\n",
    "\n",
    "   - Use the drop method to remove the pub_rec_bankruptcies column from loans.\n",
    "   - Use the dropna method to remove all rows from loans containing any missing values.\n",
    "   - Use the dtypes attribute followed by the value_counts() method to return the counts for each column data type. Use the print function to display these counts.\n"
   ]
  },
  {
   "cell_type": "code",
   "execution_count": 13,
   "metadata": {
    "collapsed": false
   },
   "outputs": [
    {
     "name": "stdout",
     "output_type": "stream",
     "text": [
      "object     11\n",
      "float64    10\n",
      "int64       1\n",
      "dtype: int64\n"
     ]
    }
   ],
   "source": [
    "loans = loans.drop(\"pub_rec_bankruptcies\", axis=1)\n",
    "loans = loans.dropna(axis=0)\n",
    "print(loans.dtypes.value_counts())"
   ]
  },
  {
   "cell_type": "markdown",
   "metadata": {},
   "source": [
    "#### While the numerical columns can be used natively with scikit-learn, the object columns that contain text need to be converted to numerical data types. \n",
    "   - Use the Dataframe method select_dtypes to select only the columns of object type from loans and assign the resulting Dataframe object_columns_df.\n",
    "   - Display the first row in object_columns_df using the print function.\n"
   ]
  },
  {
   "cell_type": "code",
   "execution_count": 14,
   "metadata": {
    "collapsed": false
   },
   "outputs": [
    {
     "name": "stdout",
     "output_type": "stream",
     "text": [
      "term                     36 months\n",
      "int_rate                    10.65%\n",
      "emp_length               10+ years\n",
      "home_ownership                RENT\n",
      "verification_status       Verified\n",
      "purpose                credit_card\n",
      "title                     Computer\n",
      "addr_state                      AZ\n",
      "earliest_cr_line          Jan-1985\n",
      "revol_util                   83.7%\n",
      "last_credit_pull_d        Jun-2016\n",
      "Name: 0, dtype: object\n"
     ]
    }
   ],
   "source": [
    "object_columns_df = loans.select_dtypes(include=[\"object\"])\n",
    "print(object_columns_df.iloc[0])"
   ]
  },
  {
   "cell_type": "markdown",
   "metadata": {},
   "source": [
    "#### Some of the columns seem like they represent categorical values, but we should confirm by checking the number of unique values in those columns:\n",
    "\n",
    "   - home_ownership: home ownership status, can only be 1 of 4 categorical values according to the data dictionary,\n",
    "   - verification_status: indicates if income was verified by Lending Club,\n",
    "   - emp_length: number of years the borrower was employed upon time of application,\n",
    "   - term: number of payments on the loan, either 36 or 60,\n",
    "   - addr_state: borrower's state of residence,\n",
    "   - purpose: a category provided by the borrower for the loan request,\n",
    "   - title: loan title provided the borrower,\n",
    "\n",
    "#### There are also some columns that represent numeric values, that need to be converted:\n",
    "\n",
    "   - int_rate: interest rate of the loan in %,\n",
    "   - revol_util: revolving line utilization rate or the amount of credit the borrower is using relative to all available credit, read more here.\n",
    "\n",
    "#### Based on the first row's values for purpose and title, it seems like these columns could reflect the same information. Let's explore the unique value counts separately to confirm if this is true.\n",
    "\n",
    "#### Lastly, some of the columns contain date values that would require a good amount of feature engineering for them to be potentially useful:\n",
    "\n",
    "   - earliest_cr_line: The month the borrower's earliest reported credit line was opened,\n",
    "   - last_credit_pull_d: The most recent month Lending Club pulled credit for this loan.\n",
    "\n",
    "#### Since these date features require some feature engineering for modeling purposes, let's remove these date columns from the Dataframe.\n",
    "\n",
    "#### Display the unique value counts for the following columns: home_ownership, verification_status, emp_length, term, addr_state columns:\n",
    "\n",
    "   - Store these column names in a list named cols.\n",
    "   - Use a for loop to iterate over cols:\n",
    "       - Use the print function combined with the Series method value_counts to display each column's unique value counts."
   ]
  },
  {
   "cell_type": "code",
   "execution_count": 15,
   "metadata": {
    "collapsed": false
   },
   "outputs": [
    {
     "name": "stdout",
     "output_type": "stream",
     "text": [
      "RENT        18513\n",
      "MORTGAGE    17112\n",
      "OWN          2984\n",
      "OTHER          96\n",
      "NONE            3\n",
      "Name: home_ownership, dtype: int64\n",
      "Not Verified       16696\n",
      "Verified           12290\n",
      "Source Verified     9722\n",
      "Name: verification_status, dtype: int64\n",
      "10+ years    8545\n",
      "< 1 year     4513\n",
      "2 years      4303\n",
      "3 years      4022\n",
      "4 years      3353\n",
      "5 years      3202\n",
      "1 year       3176\n",
      "6 years      2177\n",
      "7 years      1714\n",
      "8 years      1442\n",
      "9 years      1229\n",
      "n/a          1032\n",
      "Name: emp_length, dtype: int64\n",
      " 36 months    29041\n",
      " 60 months     9667\n",
      "Name: term, dtype: int64\n",
      "CA    6958\n",
      "NY    3713\n",
      "FL    2791\n",
      "TX    2667\n",
      "NJ    1798\n",
      "IL    1483\n",
      "PA    1473\n",
      "VA    1376\n",
      "GA    1364\n",
      "MA    1301\n",
      "OH    1179\n",
      "MD    1026\n",
      "AZ     850\n",
      "WA     822\n",
      "CO     770\n",
      "NC     753\n",
      "CT     730\n",
      "MI     712\n",
      "MO     671\n",
      "MN     603\n",
      "NV     481\n",
      "SC     462\n",
      "WI     441\n",
      "AL     437\n",
      "OR     436\n",
      "LA     430\n",
      "KY     315\n",
      "OK     290\n",
      "KS     260\n",
      "UT     254\n",
      "AR     237\n",
      "DC     209\n",
      "RI     196\n",
      "NM     184\n",
      "WV     172\n",
      "HI     166\n",
      "NH     166\n",
      "DE     113\n",
      "MT      83\n",
      "WY      80\n",
      "AK      78\n",
      "SD      61\n",
      "VT      53\n",
      "MS      19\n",
      "TN      17\n",
      "IN       9\n",
      "ID       6\n",
      "IA       5\n",
      "NE       5\n",
      "ME       3\n",
      "Name: addr_state, dtype: int64\n"
     ]
    }
   ],
   "source": [
    "cols = ['home_ownership', 'verification_status', 'emp_length', 'term', 'addr_state']\n",
    "for c in cols:\n",
    "    print(loans[c].value_counts())"
   ]
  },
  {
   "cell_type": "markdown",
   "metadata": {},
   "source": [
    "#### The home_ownership, verification_status, emp_length, term, and addr_state columns all contain multiple discrete values. We should clean the emp_length column and treat it as a numerical one since the values have ordering (2 years of employment is less than 8 years).\n",
    "\n",
    "#### First, let's look at the unique value counts for the purpose and title columns to understand which column we want to keep.\n",
    "\n",
    "#### Use the value_counts method and the print function to display the unique values in the following columns:\n",
    "\n",
    "   - purpose\n",
    "   - title"
   ]
  },
  {
   "cell_type": "code",
   "execution_count": 16,
   "metadata": {
    "collapsed": false
   },
   "outputs": [
    {
     "name": "stdout",
     "output_type": "stream",
     "text": [
      "debt_consolidation    18130\n",
      "credit_card            5039\n",
      "other                  3864\n",
      "home_improvement       2897\n",
      "major_purchase         2155\n",
      "small_business         1762\n",
      "car                    1510\n",
      "wedding                 929\n",
      "medical                 680\n",
      "moving                  576\n",
      "vacation                375\n",
      "house                   369\n",
      "educational             320\n",
      "renewable_energy        102\n",
      "Name: purpose, dtype: int64\n",
      "Debt Consolidation                                      2104\n",
      "Debt Consolidation Loan                                 1632\n",
      "Personal Loan                                            642\n",
      "Consolidation                                            494\n",
      "debt consolidation                                       485\n",
      "Credit Card Consolidation                                353\n",
      "Home Improvement                                         346\n",
      "Debt consolidation                                       324\n",
      "Small Business Loan                                      310\n",
      "Credit Card Loan                                         305\n",
      "Personal                                                 302\n",
      "Consolidation Loan                                       251\n",
      "Home Improvement Loan                                    234\n",
      "personal loan                                            227\n",
      "personal                                                 211\n",
      "Loan                                                     208\n",
      "Wedding Loan                                             201\n",
      "Car Loan                                                 195\n",
      "consolidation                                            193\n",
      "Other Loan                                               181\n",
      "Credit Card Payoff                                       150\n",
      "Wedding                                                  149\n",
      "Credit Card Refinance                                    143\n",
      "Major Purchase Loan                                      139\n",
      "Consolidate                                              125\n",
      "Medical                                                  118\n",
      "Credit Card                                              115\n",
      "home improvement                                         107\n",
      "My Loan                                                   92\n",
      "Credit Cards                                              91\n",
      "                                                        ... \n",
      "$8000                                                      1\n",
      "Joes loan                                                  1\n",
      "Refinance high balance cards, help investors prosper       1\n",
      "Pay off private student loan at lower rate                 1\n",
      "09-2011 Debt Consolidation                                 1\n",
      "Excellent Opportunity                                      1\n",
      "NO MORE CREDIT CARD BILLS!                                 1\n",
      "New Year's Credit Card Consolidation!                      1\n",
      "mercedes repair                                            1\n",
      "Expand Property Mgmt Business                              1\n",
      "Adding a room for our Twins.                               1\n",
      "KITCHEN REPAIR                                             1\n",
      "Chevy Impala                                               1\n",
      "Terrapin Station                                           1\n",
      "clean                                                      1\n",
      "Loan for Real Estate School                                1\n",
      "SecondLoan                                                 1\n",
      "pontiac grand prix                                         1\n",
      "Making Sound Financial Choices                             1\n",
      "Want to get out of debt once and for all                   1\n",
      "Goodbye to high interest cards                             1\n",
      "Experienced Landlord to Rehab Condo                        1\n",
      "DNA                                                        1\n",
      "keywest                                                    1\n",
      "Debt Con Hill                                              1\n",
      "Cutting Credit Cards for Good                              1\n",
      "4bills-in-1                                                1\n",
      "munchkin1098                                               1\n",
      "Consolidate Loans on 2nd Property                          1\n",
      "Trying to get out of debt                                  1\n",
      "Name: title, dtype: int64\n"
     ]
    }
   ],
   "source": [
    "print(loans[\"purpose\"].value_counts())\n",
    "print(loans[\"title\"].value_counts())"
   ]
  },
  {
   "cell_type": "markdown",
   "metadata": {},
   "source": [
    "#### The home_ownership, verification_status, emp_length, and term columns each contain a few discrete categorical values. We should encode these columns as dummy variables and keep them.\n",
    "\n",
    "#### It seems like the purpose and title columns do contain overlapping information but we'll keep the purpose column since it contains a few discrete values. In addition, the title column has data quality issues since many of the values are repeated with slight modifications (e.g. Debt Consolidation and Debt Consolidation Loan and debt consolidation).\n",
    "\n",
    "#### We can use the following mapping to clean the emp_length column:\n",
    "\n",
    "   - \"10+ years\": 10\n",
    "   - \"9 years\": 9\n",
    "   - \"8 years\": 8\n",
    "   - \"7 years\": 7\n",
    "   - \"6 years\": 6\n",
    "   - \"5 years\": 5\n",
    "   - \"4 years\": 4\n",
    "   - \"3 years\": 3\n",
    "   - \"2 years\": 2\n",
    "   - \"1 year\": 1\n",
    "   - \"< 1 year\": 0\n",
    "   - \"n/a\": 0\n",
    "\n",
    "#### We erred on the side of being conservative with the 10+ years, < 1 year and n/a mappings. We assume that people who may have been working more than 10 years have only really worked for 10 years. We also assume that people who've worked less than a year or if the information is not available that they've worked for 0. This is a general heuristic but it's not perfect.\n",
    "\n",
    "#### Lastly, the addr_state column contains many discrete values and we'd need to add 49 dummy variable columns to use it for classification. This would make our Dataframe much larger and could slow down how quickly the code runs. Let's remove this column from consideration.\n",
    "\n",
    "\n",
    "   - Remove the last_credit_pull_d, addr_state, title, and earliest_cr_line columns from loans.\n",
    "   - Convert the int_rate and revol_util columns to float columns by:\n",
    "       - Using the str acessor followed by the rstrip string method to strip the right trailing percent sign (%):\n",
    "           - loans['int_rate'].str.rstrip('%') returns a new Series with % stripped from the right side of each value.\n",
    "       - On the resulting Series object, use the astype method to convert to the float type.\n",
    "       - Assign the new Series of float values back to the respective columns in the Dataframe.\n",
    "   - Use the replace method to clean the emp_length column."
   ]
  },
  {
   "cell_type": "code",
   "execution_count": 17,
   "metadata": {
    "collapsed": true
   },
   "outputs": [],
   "source": [
    "mapping_dict = {\n",
    "    \"emp_length\": {\n",
    "        \"10+ years\": 10,\n",
    "        \"9 years\": 9,\n",
    "        \"8 years\": 8,\n",
    "        \"7 years\": 7,\n",
    "        \"6 years\": 6,\n",
    "        \"5 years\": 5,\n",
    "        \"4 years\": 4,\n",
    "        \"3 years\": 3,\n",
    "        \"2 years\": 2,\n",
    "        \"1 year\": 1,\n",
    "        \"< 1 year\": 0,\n",
    "        \"n/a\": 0\n",
    "    }\n",
    "}\n",
    "loans = loans.drop([\"last_credit_pull_d\", \"earliest_cr_line\", \"addr_state\", \"title\"], axis=1)\n",
    "loans[\"int_rate\"] = loans[\"int_rate\"].str.rstrip(\"%\").astype(\"float\")\n",
    "loans[\"revol_util\"] = loans[\"revol_util\"].str.rstrip(\"%\").astype(\"float\")\n",
    "loans = loans.replace(mapping_dict)"
   ]
  },
  {
   "cell_type": "markdown",
   "metadata": {},
   "source": [
    "#### Let's now encode the home_ownership, verification_status, purpose, and term columns as dummy variables so we can use them in our model. We first need to use the Pandas get_dummies method to return a new Dataframe containing a new column for each dummy variable. We can then use the concat method to add these dummy columns back to the original Dataframe. \n",
    "\n",
    "- Encode the home_ownership, verification_status, purpose, and term columns as integer values:\n",
    "\n",
    "   - Use the get_dummies function to return a Dataframe containing the dummy columns.\n",
    "   - Use the concat method to add these dummy columns back to loans.\n",
    "   - Remove the original, non-dummy columns (home_ownership, verification_status, purpose, and term) from loans."
   ]
  },
  {
   "cell_type": "code",
   "execution_count": 18,
   "metadata": {
    "collapsed": true
   },
   "outputs": [],
   "source": [
    "cat_columns = [\"home_ownership\", \"verification_status\", \"purpose\", \"term\"]\n",
    "dummy_df = pd.get_dummies(loans[cat_columns])\n",
    "loans = pd.concat([loans, dummy_df], axis=1)\n",
    "loans = loans.drop(cat_columns, axis=1)"
   ]
  },
  {
   "cell_type": "markdown",
   "metadata": {},
   "source": [
    "#### We performed data preparation necessary to start training machine learning models. We converted all of the columns to numerical values because those are the only type of value scikit-learn can work with. "
   ]
  },
  {
   "cell_type": "code",
   "execution_count": 19,
   "metadata": {
    "collapsed": false
   },
   "outputs": [
    {
     "name": "stdout",
     "output_type": "stream",
     "text": [
      "<class 'pandas.core.frame.DataFrame'>\n",
      "Int64Index: 38708 entries, 0 to 39785\n",
      "Data columns (total 38 columns):\n",
      "loan_amnt                              38708 non-null float64\n",
      "int_rate                               38708 non-null float64\n",
      "installment                            38708 non-null float64\n",
      "emp_length                             38708 non-null int64\n",
      "annual_inc                             38708 non-null float64\n",
      "loan_status                            38708 non-null int64\n",
      "dti                                    38708 non-null float64\n",
      "delinq_2yrs                            38708 non-null float64\n",
      "inq_last_6mths                         38708 non-null float64\n",
      "open_acc                               38708 non-null float64\n",
      "pub_rec                                38708 non-null float64\n",
      "revol_bal                              38708 non-null float64\n",
      "revol_util                             38708 non-null float64\n",
      "total_acc                              38708 non-null float64\n",
      "home_ownership_MORTGAGE                38708 non-null uint8\n",
      "home_ownership_NONE                    38708 non-null uint8\n",
      "home_ownership_OTHER                   38708 non-null uint8\n",
      "home_ownership_OWN                     38708 non-null uint8\n",
      "home_ownership_RENT                    38708 non-null uint8\n",
      "verification_status_Not Verified       38708 non-null uint8\n",
      "verification_status_Source Verified    38708 non-null uint8\n",
      "verification_status_Verified           38708 non-null uint8\n",
      "purpose_car                            38708 non-null uint8\n",
      "purpose_credit_card                    38708 non-null uint8\n",
      "purpose_debt_consolidation             38708 non-null uint8\n",
      "purpose_educational                    38708 non-null uint8\n",
      "purpose_home_improvement               38708 non-null uint8\n",
      "purpose_house                          38708 non-null uint8\n",
      "purpose_major_purchase                 38708 non-null uint8\n",
      "purpose_medical                        38708 non-null uint8\n",
      "purpose_moving                         38708 non-null uint8\n",
      "purpose_other                          38708 non-null uint8\n",
      "purpose_renewable_energy               38708 non-null uint8\n",
      "purpose_small_business                 38708 non-null uint8\n",
      "purpose_vacation                       38708 non-null uint8\n",
      "purpose_wedding                        38708 non-null uint8\n",
      "term_ 36 months                        38708 non-null uint8\n",
      "term_ 60 months                        38708 non-null uint8\n",
      "dtypes: float64(12), int64(2), uint8(24)\n",
      "memory usage: 5.3 MB\n"
     ]
    }
   ],
   "source": [
    "loans.info()"
   ]
  },
  {
   "cell_type": "markdown",
   "metadata": {},
   "source": [
    "### Selecting Error Metric\n",
    "\n",
    "####  Recall the original question we wanted to answer:\n",
    "\n",
    "   - Can we build a machine learning model that can accurately predict if a borrower will pay off their loan on time or not?\n",
    "\n",
    "#### We established that this is a binary classification problem in the first mission of this course, and we converted the loan_status column to 0s and 1s as a result. Before diving in and selecting an algorithm to apply to the data, we should select an error metric.\n",
    "\n",
    "#### An error metric will help us figure out when our model is performing well, and when it's performing poorly. To tie error metrics all the way back to the original question we wanted to answer, let's say we're using a machine learning model to predict whether or not we should fund a loan on the Lending Club platform. Our objective in this is to make money -- we want to fund enough loans that are paid off on time to offset our losses from loans that aren't paid off. An error metric will help us determine if our algorithm will make us money or lose us money.\n",
    "\n",
    "#### In this case, we're primarily concerned with false positives and false negatives. Both of these are different types of misclassifications. With a false positive, we predict that a loan will be paid off on time, but it actually isn't. This costs us money, since we fund loans that lose us money. With a false negative, we predict that a loan won't be paid off on time, but it actually would be paid off on time. This loses us potential money, since we didn't fund a loan that actually would have been paid off. \n",
    "\n",
    "#### In the loan_status and prediction columns, a 0 means that the loan wouldn't be paid off on time, and a 1 means that it would.\n",
    "\n",
    "#### Since we're viewing this problem from the standpoint of a conservative investor, we need to treat false positives differently than false negatives. A conservative investor would want to minimize risk, and avoid false positives as much as possible. They'd be more okay with missing out on opportunities (false negatives) than they would be with funding a risky loan (false positives).\n",
    "\n",
    "\n",
    "   - Find the number of true negatives.\n",
    "       - Find the number of items where predictions is 0, and the corresponding entry in loans[\"loan_status\"] is also 0.\n",
    "       - Assign the result to tn.\n",
    "   - Find the number of true positives.\n",
    "       - Find the number of items where predictions is 1, and the corresponding entry in loans[\"loan_status\"] is also 1.\n",
    "       - Assign the result to tp.\n",
    "   - Find the number of false negatives.\n",
    "       - Find the number of items where predictions is 0, and the corresponding entry in loans[\"loan_status\"] is 1.\n",
    "       - Assign the result to fn.\n",
    "   - Find the number of false positives.\n",
    "       - Find the number of items where predictions is 1, and the corresponding entry in loans[\"loan_status\"] is 0.\n",
    "       - Assign the result to fp."
   ]
  },
  {
   "cell_type": "code",
   "execution_count": 23,
   "metadata": {
    "collapsed": false
   },
   "outputs": [],
   "source": [
    "import pandas as pd\n",
    "import numpy as np\n",
    "predictions = pd.Series(np.ones(loans.shape[0]))\n",
    "# False positives.\n",
    "fp_filter = (predictions == 1) & (loans[\"loan_status\"] == 0)\n",
    "fp = len(predictions[fp_filter])\n",
    "\n",
    "# True positives.\n",
    "tp_filter = (predictions == 1) & (loans[\"loan_status\"] == 1)\n",
    "tp = len(predictions[tp_filter])\n",
    "\n",
    "# False negatives.\n",
    "fn_filter = (predictions == 0) & (loans[\"loan_status\"] == 1)\n",
    "fn = len(predictions[fn_filter])\n",
    "\n",
    "# True negatives\n",
    "tn_filter = (predictions == 0) & (loans[\"loan_status\"] == 0)\n",
    "tn = len(predictions[tn_filter])"
   ]
  },
  {
   "cell_type": "markdown",
   "metadata": {},
   "source": [
    "#### We mentioned earlier that there is a significant class imbalance in the loan_status column. There are 6 times as many loans that were paid off on time (1), than loans that weren't paid off on time (0). This causes a major issue when we use accuracy as a metric. This is because due to the class imbalance, a classifier can predict 1 for every row, and still have high accuracy. \n",
    "\n",
    "#### This is why it's important to always be aware of imbalanced classes in machine learning models, and to adjust your error metric accordingly. In this case, we don't want to use accuracy, and should instead use metrics that tell us the number of false positives and false negatives.\n",
    "\n",
    "#### This means that we should optimize for:\n",
    "\n",
    "   - high recall (true positive rate)\n",
    "   - low fall-out (false positive rate)\n",
    "\n",
    "#### We can calculate false positive rate and true positive rate, using the numbers of true positives, true negatives, false negatives, and false positives.\n",
    "\n",
    "- fpr = fp / (fp + tn)\n",
    "\n",
    "#### False positive rate is the number of false positives divided by the number of false positives plus the number of true negatives. This divides all the cases where we thought a loan would be paid off but it wasn't by all the loans that weren't paid off.\n",
    "- tpr = tp / (tp + fn)\n",
    "\n",
    "#### Simple english ways to think of each term are:\n",
    "\n",
    "   - False Positive Rate -- \"what percentage of my 1 predictions are incorrect?\"\n",
    "       - In this case, \"what percentage of the loans that I fund would not be repaid?\"\n",
    "   - True Positive Rate -- \"what percentage of all the possible 1 predictions am I making?\"\n",
    "       - In this case, \"what percentage of loans that could be funded would I fund?\"\n",
    "\n",
    "#### Generally, if we want to reduce false positive rate, true positive rate will also go down. This is because if we want to reduce the risk of false positives, we wouldn't think about funding riskier loans in the first place.\n",
    "\n",
    "- Compute the false positive rate for predictions.\n",
    "- Compute the true positive rate for predictions."
   ]
  },
  {
   "cell_type": "code",
   "execution_count": 24,
   "metadata": {
    "collapsed": false
   },
   "outputs": [
    {
     "name": "stdout",
     "output_type": "stream",
     "text": [
      "1.0\n",
      "1.0\n"
     ]
    }
   ],
   "source": [
    "# Rates\n",
    "tpr = tp / (tp + fn)\n",
    "fpr = fp / (fp + tn)\n",
    "\n",
    "print(tpr)\n",
    "print(fpr)"
   ]
  },
  {
   "cell_type": "markdown",
   "metadata": {},
   "source": [
    "#### Notice that both fpr and tpr were 1. This is because we predicted 1 for each row. This means that we correctly identified all of the good loans (true positive rate), but we also incorrectly identified all of the bad loans (false positive rate). Now that we've setup error metrics, we can move on to making predictions using a machine learning algorithm.\n",
    "\n",
    "### Model Training \n",
    "\n",
    "#### A good first algorithm to apply to binary classification problems is logistic regression, for the following reasons:\n",
    "\n",
    "   - it's quick to train and we can iterate more quickly,\n",
    "   - it's less prone to overfitting than more complex models like decision trees,\n",
    "   - it's easy to interpret.\n",
    "   \n",
    "### Logistic Regression"
   ]
  },
  {
   "cell_type": "code",
   "execution_count": 25,
   "metadata": {
    "collapsed": true
   },
   "outputs": [],
   "source": [
    "from sklearn.linear_model import LogisticRegression\n",
    "lr = LogisticRegression()\n",
    "cols = loans.columns\n",
    "train_cols = cols.drop(\"loan_status\")\n",
    "features = loans[train_cols]\n",
    "target = loans[\"loan_status\"]\n",
    "lr.fit(features, target)\n",
    "predictions = lr.predict(features)"
   ]
  },
  {
   "cell_type": "markdown",
   "metadata": {},
   "source": [
    "#### In order to get a realistic depiction of the accuracy of the model, let's perform k-fold cross validation. We can use the cross_val_predict() function from the sklearn.model_selection package."
   ]
  },
  {
   "cell_type": "code",
   "execution_count": 26,
   "metadata": {
    "collapsed": false
   },
   "outputs": [
    {
     "name": "stdout",
     "output_type": "stream",
     "text": [
      "0.9987266289831667\n",
      "0.9977929004965974\n"
     ]
    }
   ],
   "source": [
    "from sklearn.linear_model import LogisticRegression\n",
    "from sklearn.model_selection import cross_val_predict\n",
    "lr = LogisticRegression()\n",
    "predictions = cross_val_predict(lr, features, target, cv=3)\n",
    "predictions = pd.Series(predictions)\n",
    "# False positives.\n",
    "fp_filter = (predictions == 1) & (loans[\"loan_status\"] == 0)\n",
    "fp = len(predictions[fp_filter])\n",
    "\n",
    "# True positives.\n",
    "tp_filter = (predictions == 1) & (loans[\"loan_status\"] == 1)\n",
    "tp = len(predictions[tp_filter])\n",
    "\n",
    "# False negatives.\n",
    "fn_filter = (predictions == 0) & (loans[\"loan_status\"] == 1)\n",
    "fn = len(predictions[fn_filter])\n",
    "\n",
    "# True negatives\n",
    "tn_filter = (predictions == 0) & (loans[\"loan_status\"] == 0)\n",
    "tn = len(predictions[tn_filter])\n",
    "# Rates\n",
    "tpr = tp  / (tp + fn)\n",
    "fpr = fp  / (fp + tn)\n",
    "print(tpr)\n",
    "print(fpr)"
   ]
  },
  {
   "cell_type": "markdown",
   "metadata": {},
   "source": [
    "#### Our fpr and tpr are around what we'd expect if the model was predicting all ones. \n",
    "\n",
    "#### Unfortunately, even through we're not using accuracy as an error metric, the classifier is, and it isn't accounting for the imbalance in the classes. There are a few ways to get a classifier to correct for imbalanced classes. The two main ways are:\n",
    "\n",
    "   - Use oversampling and undersampling to ensure that the classifier gets input that has a balanced number of each class.\n",
    "   - Tell the classifier to penalize misclassifications of the less prevalent class more than the other class.\n",
    "\n",
    "#### We'll look into oversampling and undersampling first. They involve taking a sample that contains equal numbers of rows where loan_status is 0, and where loan_status is 1. This way, the classifier is forced to make actual predictions, since predicting all 1s or all 0s will only result in 50% accuracy at most.\n",
    "\n",
    "#### The downside of this technique is that since it has to preserve an equal ratio, you have to either:\n",
    "\n",
    "   - Throw out many rows of data. If we wanted equal numbers of rows where loan_status is 0 and where loan_status is 1, one way we could do that is to delete rows where loan_status is 1.\n",
    "   - Copy rows multiple times. One way to equalize the 0s and 1s is to copy rows where loan_status is 0.\n",
    "   - Generate fake data. One way to equalize the 0s and 1s is to generate new rows where loan_status is 0.\n",
    "\n",
    "#### Unfortunately, none of these techniques are especially easy. The second method we mentioned earlier, telling the classifier to penalize certain rows more, is actually much easier to implement using scikit-learn.\n",
    "\n",
    "#### We can do this by setting the class_weight parameter to balanced when creating the LogisticRegression instance. This tells scikit-learn to penalize the misclassification of the minority class during the training process. The penalty means that the logistic regression classifier pays more attention to correctly classifying rows where loan_status is 0. This lowers accuracy when loan_status is 1, but raises accuracy when loan_status is 0.\n",
    "\n",
    "#### By setting the class_weight parameter to balanced, the penalty is set to be inversely proportional to the class frequencies. You can read more about the parameter here. This would mean that for the classifier, correctly classifying a row where loan_status is 0 is 6 times more important than correctly classifying a row where loan_status is 1.\n",
    "\n",
    "#### We can repeat the cross validation procedure we performed in the last screen, but with the class_weight parameter set to balanced.\n",
    "\n",
    "\n",
    "   - Create a LogisticRegression instance.\n",
    "       - set class_weight to balanced.\n",
    "       - Assign the instance to lr.\n",
    "   - Generate cross validated predictions for features.\n",
    "       - Call cross_val_predict() using lr, features, and target.\n",
    "       - Assign the predictions to predictions.\n",
    "   - Use the Series class to convert predictions to a Pandas Series, as we did in the last screen.\n",
    "       - Converting to Series objects letse us take advantage of boolean filtering and arithmetic operations from pandas.\n",
    "   - Compute true positive rate and false positive rate.\n",
    "       - Assign true positive rate to tpr.\n",
    "       - Assign false positive rate to fpr.\n",
    "   - Print out fpr and tpr to evaluate them.\n"
   ]
  },
  {
   "cell_type": "code",
   "execution_count": 27,
   "metadata": {
    "collapsed": false
   },
   "outputs": [
    {
     "name": "stdout",
     "output_type": "stream",
     "text": [
      "0.618423504565501\n",
      "0.6220342100423027\n"
     ]
    }
   ],
   "source": [
    "from sklearn.linear_model import LogisticRegression\n",
    "from sklearn.model_selection import cross_val_predict\n",
    "lr = LogisticRegression(class_weight=\"balanced\")\n",
    "predictions = cross_val_predict(lr, features, target, cv=3)\n",
    "predictions = pd.Series(predictions)\n",
    "\n",
    "# False positives.\n",
    "fp_filter = (predictions == 1) & (loans[\"loan_status\"] == 0)\n",
    "fp = len(predictions[fp_filter])\n",
    "\n",
    "# True positives.\n",
    "tp_filter = (predictions == 1) & (loans[\"loan_status\"] == 1)\n",
    "tp = len(predictions[tp_filter])\n",
    "\n",
    "# False negatives.\n",
    "fn_filter = (predictions == 0) & (loans[\"loan_status\"] == 1)\n",
    "fn = len(predictions[fn_filter])\n",
    "\n",
    "# True negatives\n",
    "tn_filter = (predictions == 0) & (loans[\"loan_status\"] == 0)\n",
    "tn = len(predictions[tn_filter])\n",
    "\n",
    "# Rates\n",
    "tpr = tp / (tp + fn)\n",
    "fpr = fp / (fp + tn)\n",
    "\n",
    "print(tpr)\n",
    "print(fpr)"
   ]
  },
  {
   "cell_type": "markdown",
   "metadata": {},
   "source": [
    "#### We significantly improved false positive rate in the last screen by balancing the classes, which reduced true positive rate. Our true positive rate is now around 61%, and our false positive rate is around 62%. From a conservative investor's standpoint, it's reassuring that the false positive rate is lower because it means that we'll be able to do a better job at avoiding bad loans than if we funded everything. However, we'd only ever decide to fund 61% of the total loans (true positive rate), so we'd immediately reject a good amount of loans.\n",
    "\n",
    "#### We can try to lower the false positive rate further by assigning a harsher penalty for misclassifying the negative class. While setting class_weight to balanced will automatically set a penalty based on the number of 1s and 0s in the column, we can also set a manual penalty.\n",
    "\n",
    "#### We can also specify a penalty manually if we want to adjust the rates more. To do this, we need to pass in a dictionary of penalty values to the class_weight parameter:\n",
    "\n",
    "penalty = {\n",
    "\n",
    "    0: 10,\n",
    "\n",
    "    1: 1\n",
    "\n",
    "}"
   ]
  },
  {
   "cell_type": "code",
   "execution_count": 28,
   "metadata": {
    "collapsed": false
   },
   "outputs": [
    {
     "name": "stdout",
     "output_type": "stream",
     "text": [
      "0.21718740294428227\n",
      "0.22696339893323525\n"
     ]
    }
   ],
   "source": [
    "from sklearn.linear_model import LogisticRegression\n",
    "from sklearn.model_selection import cross_val_predict\n",
    "penalty = {\n",
    "    0: 10,\n",
    "    1: 1\n",
    "}\n",
    "\n",
    "lr = LogisticRegression(class_weight=penalty)\n",
    "predictions = cross_val_predict(lr, features, target, cv=3)\n",
    "predictions = pd.Series(predictions)\n",
    "\n",
    "# False positives.\n",
    "fp_filter = (predictions == 1) & (loans[\"loan_status\"] == 0)\n",
    "fp = len(predictions[fp_filter])\n",
    "\n",
    "# True positives.\n",
    "tp_filter = (predictions == 1) & (loans[\"loan_status\"] == 1)\n",
    "tp = len(predictions[tp_filter])\n",
    "\n",
    "# False negatives.\n",
    "fn_filter = (predictions == 0) & (loans[\"loan_status\"] == 1)\n",
    "fn = len(predictions[fn_filter])\n",
    "\n",
    "# True negatives\n",
    "tn_filter = (predictions == 0) & (loans[\"loan_status\"] == 0)\n",
    "tn = len(predictions[tn_filter])\n",
    "\n",
    "# Rates\n",
    "tpr = tp / (tp + fn)\n",
    "fpr = fp / (fp + tn)\n",
    "\n",
    "print(tpr)\n",
    "print(fpr)"
   ]
  },
  {
   "cell_type": "markdown",
   "metadata": {},
   "source": [
    "#### It looks like assigning manual penalties lowered the false positive rate to 22%, and thus lowered our risk. Note that this comes at the expense of true positive rate. While we have fewer false positives, we're also missing opportunities to fund more loans and potentially make more money. Given that we're approaching this as a conservative investor, this strategy makes sense, but it's worth keeping in mind the tradeoffs.\n",
    "\n",
    "#### While we could tweak the penalties further, it's best to move to trying a different model right now, for larger potential false positive rate gains. We can always loop back and iterate on the penalties more later.\n",
    "\n",
    "### Random Forest\n",
    "\n",
    "#### Let's try a more complex algorithm, random forest. Random forests are able to work with nonlinear data, and learn complex conditionals. Logistic regressions are only able to work with linear data. Training a random forest algorithm may enable us to get more accuracy due to columns that correlate nonlinearly with loan_status.\n",
    "\n",
    "#### We can use the RandomForestClassifer class from scikit-learn to do this."
   ]
  },
  {
   "cell_type": "code",
   "execution_count": 29,
   "metadata": {
    "collapsed": false
   },
   "outputs": [
    {
     "name": "stderr",
     "output_type": "stream",
     "text": [
      "C:\\ProgramData\\Anaconda3\\lib\\site-packages\\sklearn\\cross_validation.py:44: DeprecationWarning: This module was deprecated in version 0.18 in favor of the model_selection module into which all the refactored classes and functions are moved. Also note that the interface of the new CV iterators are different from that of this module. This module will be removed in 0.20.\n",
      "  \"This module will be removed in 0.20.\", DeprecationWarning)\n"
     ]
    },
    {
     "name": "stdout",
     "output_type": "stream",
     "text": [
      "0.9648425368035282\n",
      "0.966525657531727\n"
     ]
    }
   ],
   "source": [
    "from sklearn.ensemble import RandomForestClassifier\n",
    "from sklearn.cross_validation import cross_val_predict\n",
    "rf = RandomForestClassifier(class_weight=\"balanced\", random_state=1)\n",
    "predictions = cross_val_predict(rf, features, target, cv=3)\n",
    "predictions = pd.Series(predictions)\n",
    "\n",
    "# False positives.\n",
    "fp_filter = (predictions == 1) & (loans[\"loan_status\"] == 0)\n",
    "fp = len(predictions[fp_filter])\n",
    "\n",
    "# True positives.`\n",
    "tp_filter = (predictions == 1) & (loans[\"loan_status\"] == 1)\n",
    "tp = len(predictions[tp_filter])\n",
    "\n",
    "# False negatives.\n",
    "fn_filter = (predictions == 0) & (loans[\"loan_status\"] == 1)\n",
    "fn = len(predictions[fn_filter])\n",
    "\n",
    "# True negatives\n",
    "tn_filter = (predictions == 0) & (loans[\"loan_status\"] == 0)\n",
    "tn = len(predictions[tn_filter])\n",
    "\n",
    "# Rates\n",
    "tpr = tp / (tp + fn)\n",
    "fpr = fp / (fp + tn)\n",
    "\n",
    "print(tpr)\n",
    "print(fpr)"
   ]
  },
  {
   "cell_type": "markdown",
   "metadata": {},
   "source": [
    "#### Unfortunately, using a random forest classifier didn't improve our false positive rate. The model is likely weighting too heavily on the 1 class, and still mostly predicting 1s. We could fix this by applying a harsher penalty for misclassifications of 0s.\n",
    "\n",
    "#### Ultimately, our best model had a false positive rate of 7%, and a true positive rate of 20%. For a conservative investor, this means that they make money as long as the interest rate is high enough to offset the losses from 7% of borrowers defaulting, and that the pool of 20% of borrowers is large enough to make enough interest money to offset the losses.\n",
    "\n",
    "#### If we had randomly picked loans to fund, borrowers would have defaulted on 14.5% of them, and our model is better than that, although we're excluding more loans than a random strategy would. Given this, there's still quite a bit of room to improve:\n",
    "\n",
    "   - We can tweak the penalties further.\n",
    "   - We can try models other than a random forest and logistic regression.\n",
    "   - We can use some of the columns we discarded to generate better features.\n",
    "   - We can ensemble multiple models to get more accurate predictions.\n",
    "   - We can tune the parameters of the algorithm to achieve higher performance.\n"
   ]
  },
  {
   "cell_type": "code",
   "execution_count": null,
   "metadata": {
    "collapsed": true
   },
   "outputs": [],
   "source": []
  }
 ],
 "metadata": {
  "kernelspec": {
   "display_name": "Python 3",
   "language": "python",
   "name": "python3"
  },
  "language_info": {
   "codemirror_mode": {
    "name": "ipython",
    "version": 3
   },
   "file_extension": ".py",
   "mimetype": "text/x-python",
   "name": "python",
   "nbconvert_exporter": "python",
   "pygments_lexer": "ipython3",
   "version": "3.6.0"
  }
 },
 "nbformat": 4,
 "nbformat_minor": 2
}
